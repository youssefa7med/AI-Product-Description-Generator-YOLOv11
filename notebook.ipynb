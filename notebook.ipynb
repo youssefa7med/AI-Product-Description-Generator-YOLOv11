{
 "cells": [
  {
   "cell_type": "code",
   "execution_count": null,
   "id": "212a82a4",
   "metadata": {},
   "outputs": [],
   "source": [
    "from ultralytics import YOLO\n",
    "from PIL import Image\n",
    "import requests\n",
    "from io import BytesIO\n",
    "\n",
    "model = YOLO(\"best.pt\")\n",
    "\n",
    "def predict_category(image_url):\n",
    "    response = requests.get(image_url)\n",
    "    image = Image.open(BytesIO(response.content)).convert(\"RGB\")\n",
    "\n",
    "    results = model(image)\n",
    "    result = results[0]\n",
    "\n",
    "    if result.boxes.cls.numel() == 0:\n",
    "        return \"No object detected\"\n",
    "\n",
    "    cls_id = int(result.boxes.cls[0])\n",
    "    class_name = model.names[cls_id]\n",
    "    return class_name"
   ]
  },
  {
   "cell_type": "code",
   "execution_count": null,
   "id": "73bf5229",
   "metadata": {},
   "outputs": [],
   "source": [
    "url = \"https://m.media-amazon.com/images/I/71fTE1ORVxS.__AC_SY300_SX300_QL70_ML2_.jpg\"\n",
    "category = predict_category(url)\n",
    "print(\"Predicted Category:\", category)"
   ]
  },
  {
   "cell_type": "code",
   "execution_count": null,
   "id": "234e9249",
   "metadata": {},
   "outputs": [],
   "source": []
  }
 ],
 "metadata": {
  "kernelspec": {
   "display_name": "base",
   "language": "python",
   "name": "python3"
  },
  "language_info": {
   "codemirror_mode": {
    "name": "ipython",
    "version": 3
   },
   "file_extension": ".py",
   "mimetype": "text/x-python",
   "name": "python",
   "nbconvert_exporter": "python",
   "pygments_lexer": "ipython3",
   "version": "3.12.7"
  }
 },
 "nbformat": 4,
 "nbformat_minor": 5
}
